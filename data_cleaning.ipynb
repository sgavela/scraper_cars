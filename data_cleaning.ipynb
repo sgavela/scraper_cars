{
 "cells": [
  {
   "cell_type": "markdown",
   "source": [
    "# Data cleaning for scraped cars"
   ],
   "metadata": {}
  },
  {
   "cell_type": "markdown",
   "source": [
    "### Read dataset"
   ],
   "metadata": {}
  },
  {
   "cell_type": "code",
   "execution_count": 3,
   "source": [
    "import pandas as pd"
   ],
   "outputs": [],
   "metadata": {}
  },
  {
   "cell_type": "code",
   "execution_count": 4,
   "source": [
    "data = pd.read_json('./car_scraper/cars.json')"
   ],
   "outputs": [],
   "metadata": {}
  },
  {
   "cell_type": "code",
   "execution_count": 5,
   "source": [
    "data.head()"
   ],
   "outputs": [
    {
     "output_type": "execute_result",
     "data": {
      "text/html": [
       "<div>\n",
       "<style scoped>\n",
       "    .dataframe tbody tr th:only-of-type {\n",
       "        vertical-align: middle;\n",
       "    }\n",
       "\n",
       "    .dataframe tbody tr th {\n",
       "        vertical-align: top;\n",
       "    }\n",
       "\n",
       "    .dataframe thead th {\n",
       "        text-align: right;\n",
       "    }\n",
       "</style>\n",
       "<table border=\"1\" class=\"dataframe\">\n",
       "  <thead>\n",
       "    <tr style=\"text-align: right;\">\n",
       "      <th></th>\n",
       "      <th>brand_and_model</th>\n",
       "      <th>price</th>\n",
       "      <th>province</th>\n",
       "      <th>matriculation</th>\n",
       "      <th>fuel</th>\n",
       "      <th>kilometres</th>\n",
       "      <th>gear</th>\n",
       "    </tr>\n",
       "  </thead>\n",
       "  <tbody>\n",
       "    <tr>\n",
       "      <th>0</th>\n",
       "      <td>AUDI A5 Coupé 3.0TDI quattro S-Tronic</td>\n",
       "      <td>15.450</td>\n",
       "      <td>Granada</td>\n",
       "      <td>2010</td>\n",
       "      <td>Diésel</td>\n",
       "      <td>303.000 km</td>\n",
       "      <td>Automático</td>\n",
       "    </tr>\n",
       "    <tr>\n",
       "      <th>1</th>\n",
       "      <td>BMW X3 xDrive 20iA</td>\n",
       "      <td>57.500</td>\n",
       "      <td>Almería</td>\n",
       "      <td>2021</td>\n",
       "      <td>Gasolina</td>\n",
       "      <td>10 km</td>\n",
       "      <td>Automático</td>\n",
       "    </tr>\n",
       "    <tr>\n",
       "      <th>2</th>\n",
       "      <td>OPEL Mokka X 1.4T Innovation 4x2 Aut.</td>\n",
       "      <td>13.499</td>\n",
       "      <td>Castellón</td>\n",
       "      <td>2019</td>\n",
       "      <td>Gasolina</td>\n",
       "      <td>98.456 km</td>\n",
       "      <td>Automático</td>\n",
       "    </tr>\n",
       "    <tr>\n",
       "      <th>3</th>\n",
       "      <td>BMW Serie 3 318dA Essential Edition</td>\n",
       "      <td>13.990</td>\n",
       "      <td>Cantabria</td>\n",
       "      <td>2014</td>\n",
       "      <td>Diésel</td>\n",
       "      <td>192.000 km</td>\n",
       "      <td>Automático</td>\n",
       "    </tr>\n",
       "    <tr>\n",
       "      <th>4</th>\n",
       "      <td>PEUGEOT 308 SW 1.6 BlueHDi MBC Active 120</td>\n",
       "      <td>10.200</td>\n",
       "      <td>Cádiz</td>\n",
       "      <td>2016</td>\n",
       "      <td>Diésel</td>\n",
       "      <td>134.000 km</td>\n",
       "      <td>Manual</td>\n",
       "    </tr>\n",
       "  </tbody>\n",
       "</table>\n",
       "</div>"
      ],
      "text/plain": [
       "                                 brand_and_model     price   province  \\\n",
       "0        AUDI A5 Coupé 3.0TDI quattro S-Tronic    15.450      Granada   \n",
       "1                           BMW X3 xDrive 20iA    57.500      Almería   \n",
       "2        OPEL Mokka X 1.4T Innovation 4x2 Aut.    13.499    Castellón   \n",
       "3          BMW Serie 3 318dA Essential Edition    13.990    Cantabria   \n",
       "4    PEUGEOT 308 SW 1.6 BlueHDi MBC Active 120    10.200        Cádiz   \n",
       "\n",
       "   matriculation       fuel  kilometres        gear  \n",
       "0           2010     Diésel  303.000 km  Automático  \n",
       "1           2021   Gasolina       10 km  Automático  \n",
       "2           2019   Gasolina   98.456 km  Automático  \n",
       "3           2014     Diésel  192.000 km  Automático  \n",
       "4           2016     Diésel  134.000 km      Manual  "
      ]
     },
     "metadata": {},
     "execution_count": 5
    }
   ],
   "metadata": {}
  },
  {
   "cell_type": "code",
   "execution_count": 6,
   "source": [
    "data.shape"
   ],
   "outputs": [
    {
     "output_type": "execute_result",
     "data": {
      "text/plain": [
       "(9984, 7)"
      ]
     },
     "metadata": {},
     "execution_count": 6
    }
   ],
   "metadata": {}
  },
  {
   "cell_type": "code",
   "execution_count": 7,
   "source": [
    "data.dtypes"
   ],
   "outputs": [
    {
     "output_type": "execute_result",
     "data": {
      "text/plain": [
       "brand_and_model    object\n",
       "price              object\n",
       "province           object\n",
       "matriculation       int64\n",
       "fuel               object\n",
       "kilometres         object\n",
       "gear               object\n",
       "dtype: object"
      ]
     },
     "metadata": {},
     "execution_count": 7
    }
   ],
   "metadata": {}
  },
  {
   "cell_type": "markdown",
   "source": [
    "### Clean price"
   ],
   "metadata": {}
  },
  {
   "cell_type": "code",
   "execution_count": 8,
   "source": [
    "data[data['price']=='Consultar ']"
   ],
   "outputs": [
    {
     "output_type": "execute_result",
     "data": {
      "text/html": [
       "<div>\n",
       "<style scoped>\n",
       "    .dataframe tbody tr th:only-of-type {\n",
       "        vertical-align: middle;\n",
       "    }\n",
       "\n",
       "    .dataframe tbody tr th {\n",
       "        vertical-align: top;\n",
       "    }\n",
       "\n",
       "    .dataframe thead th {\n",
       "        text-align: right;\n",
       "    }\n",
       "</style>\n",
       "<table border=\"1\" class=\"dataframe\">\n",
       "  <thead>\n",
       "    <tr style=\"text-align: right;\">\n",
       "      <th></th>\n",
       "      <th>brand_and_model</th>\n",
       "      <th>price</th>\n",
       "      <th>province</th>\n",
       "      <th>matriculation</th>\n",
       "      <th>fuel</th>\n",
       "      <th>kilometres</th>\n",
       "      <th>gear</th>\n",
       "    </tr>\n",
       "  </thead>\n",
       "  <tbody>\n",
       "    <tr>\n",
       "      <th>7376</th>\n",
       "      <td>JAGUAR XJ XJ6 2.7D V6 Executive Aut.</td>\n",
       "      <td>Consultar</td>\n",
       "      <td>Vizcaya</td>\n",
       "      <td>2006</td>\n",
       "      <td>Diésel</td>\n",
       "      <td>198.000 km</td>\n",
       "      <td>Automático</td>\n",
       "    </tr>\n",
       "  </tbody>\n",
       "</table>\n",
       "</div>"
      ],
      "text/plain": [
       "                               brand_and_model       price province  \\\n",
       "7376    JAGUAR XJ XJ6 2.7D V6 Executive Aut.    Consultar   Vizcaya   \n",
       "\n",
       "      matriculation     fuel  kilometres        gear  \n",
       "7376           2006   Diésel  198.000 km  Automático  "
      ]
     },
     "metadata": {},
     "execution_count": 8
    }
   ],
   "metadata": {}
  },
  {
   "cell_type": "code",
   "execution_count": 9,
   "source": [
    "data = data[data['price']!='Consultar ']"
   ],
   "outputs": [],
   "metadata": {}
  },
  {
   "cell_type": "code",
   "execution_count": 10,
   "source": [
    "data['price'] = [int(price[:-2].replace('.','')) for price in data['price']]"
   ],
   "outputs": [],
   "metadata": {}
  },
  {
   "cell_type": "markdown",
   "source": [
    "### Clean kilometres"
   ],
   "metadata": {}
  },
  {
   "cell_type": "code",
   "execution_count": 11,
   "source": [
    "data[data['kilometres']=='<li>Cambio: <span>Automático']"
   ],
   "outputs": [
    {
     "output_type": "execute_result",
     "data": {
      "text/html": [
       "<div>\n",
       "<style scoped>\n",
       "    .dataframe tbody tr th:only-of-type {\n",
       "        vertical-align: middle;\n",
       "    }\n",
       "\n",
       "    .dataframe tbody tr th {\n",
       "        vertical-align: top;\n",
       "    }\n",
       "\n",
       "    .dataframe thead th {\n",
       "        text-align: right;\n",
       "    }\n",
       "</style>\n",
       "<table border=\"1\" class=\"dataframe\">\n",
       "  <thead>\n",
       "    <tr style=\"text-align: right;\">\n",
       "      <th></th>\n",
       "      <th>brand_and_model</th>\n",
       "      <th>price</th>\n",
       "      <th>province</th>\n",
       "      <th>matriculation</th>\n",
       "      <th>fuel</th>\n",
       "      <th>kilometres</th>\n",
       "      <th>gear</th>\n",
       "    </tr>\n",
       "  </thead>\n",
       "  <tbody>\n",
       "    <tr>\n",
       "      <th>1679</th>\n",
       "      <td>JAGUAR XE 2.0 Diesel Mid 180cv Auto.Prestige</td>\n",
       "      <td>24000</td>\n",
       "      <td>Vizcaya</td>\n",
       "      <td>2016</td>\n",
       "      <td>Diésel</td>\n",
       "      <td>&lt;li&gt;Cambio: &lt;span&gt;Automático</td>\n",
       "      <td>&lt;li&gt;Potencia: &lt;span&gt;180 cv</td>\n",
       "    </tr>\n",
       "    <tr>\n",
       "      <th>9429</th>\n",
       "      <td>LEXUS UX 250h Executive Navigation 2WD</td>\n",
       "      <td>30900</td>\n",
       "      <td>Asturias</td>\n",
       "      <td>2019</td>\n",
       "      <td>&lt;li&gt;Kilómetros: &lt;span&gt;17.000 km</td>\n",
       "      <td>&lt;li&gt;Cambio: &lt;span&gt;Automático</td>\n",
       "      <td>&lt;li&gt;Potencia: &lt;span&gt;184 cv</td>\n",
       "    </tr>\n",
       "  </tbody>\n",
       "</table>\n",
       "</div>"
      ],
      "text/plain": [
       "                                       brand_and_model  price  province  \\\n",
       "1679    JAGUAR XE 2.0 Diesel Mid 180cv Auto.Prestige    24000   Vizcaya   \n",
       "9429          LEXUS UX 250h Executive Navigation 2WD    30900  Asturias   \n",
       "\n",
       "      matriculation                             fuel  \\\n",
       "1679           2016                           Diésel   \n",
       "9429           2019  <li>Kilómetros: <span>17.000 km   \n",
       "\n",
       "                        kilometres                        gear  \n",
       "1679  <li>Cambio: <span>Automático  <li>Potencia: <span>180 cv  \n",
       "9429  <li>Cambio: <span>Automático  <li>Potencia: <span>184 cv  "
      ]
     },
     "metadata": {},
     "execution_count": 11
    }
   ],
   "metadata": {}
  },
  {
   "cell_type": "code",
   "execution_count": 12,
   "source": [
    "data = data[data['kilometres']!='<li>Cambio: <span>Automático']"
   ],
   "outputs": [],
   "metadata": {}
  },
  {
   "cell_type": "code",
   "execution_count": 13,
   "source": [
    "data['kilometres'] = [int(kms[:-3].replace('.','')) for kms in data['kilometres']]"
   ],
   "outputs": [],
   "metadata": {}
  },
  {
   "cell_type": "markdown",
   "source": [
    "###  Explore fuel and gear"
   ],
   "metadata": {}
  },
  {
   "cell_type": "code",
   "execution_count": 49,
   "source": [
    "data['fuel'].value_counts()"
   ],
   "outputs": [
    {
     "output_type": "execute_result",
     "data": {
      "text/plain": [
       "Diésel                4741\n",
       "Gasolina              4106\n",
       "Híbrido                709\n",
       "Eléctrico              284\n",
       "Híbrido Enchufable     101\n",
       "Gas                     39\n",
       "Name: fuel, dtype: int64"
      ]
     },
     "metadata": {},
     "execution_count": 49
    }
   ],
   "metadata": {}
  },
  {
   "cell_type": "code",
   "execution_count": 48,
   "source": [
    "data['fuel'] = [i[1:] for i in data['fuel']]"
   ],
   "outputs": [],
   "metadata": {}
  },
  {
   "cell_type": "code",
   "execution_count": 15,
   "source": [
    "data['gear'].value_counts()"
   ],
   "outputs": [
    {
     "output_type": "execute_result",
     "data": {
      "text/plain": [
       "Manual                        5489\n",
       "Automático                    4491\n",
       "<li>Potencia: <span>190 cv       1\n",
       "Name: gear, dtype: int64"
      ]
     },
     "metadata": {},
     "execution_count": 15
    }
   ],
   "metadata": {}
  },
  {
   "cell_type": "code",
   "execution_count": 16,
   "source": [
    "data = data[data['gear']!='<li>Potencia: <span>190 cv']"
   ],
   "outputs": [],
   "metadata": {}
  },
  {
   "cell_type": "markdown",
   "source": [
    "### Explore matriculation and province"
   ],
   "metadata": {}
  },
  {
   "cell_type": "code",
   "execution_count": 17,
   "source": [
    "data['matriculation'].value_counts()"
   ],
   "outputs": [
    {
     "output_type": "execute_result",
     "data": {
      "text/plain": [
       "2021    1717\n",
       "2017    1526\n",
       "2018    1451\n",
       "2019    1292\n",
       "2020    1163\n",
       "2016     845\n",
       "2015     430\n",
       "2014     264\n",
       "2013     212\n",
       "2012     164\n",
       "2011     139\n",
       "2010     126\n",
       "2007      99\n",
       "2009      94\n",
       "2008      92\n",
       "2005      73\n",
       "2006      69\n",
       "2022      48\n",
       "2003      42\n",
       "2004      39\n",
       "2002      23\n",
       "2000      20\n",
       "2001      16\n",
       "1999      10\n",
       "1997       6\n",
       "1994       5\n",
       "1995       4\n",
       "1998       4\n",
       "1992       3\n",
       "1996       2\n",
       "1993       2\n",
       "Name: matriculation, dtype: int64"
      ]
     },
     "metadata": {},
     "execution_count": 17
    }
   ],
   "metadata": {}
  },
  {
   "cell_type": "code",
   "execution_count": 18,
   "source": [
    "data['province'].value_counts()"
   ],
   "outputs": [
    {
     "output_type": "execute_result",
     "data": {
      "text/plain": [
       "Madrid                 1819\n",
       "Barcelona              1440\n",
       "Vizcaya                 835\n",
       "Valencia                816\n",
       "Sevilla                 475\n",
       "Alicante                432\n",
       "Murcia                  396\n",
       "Málaga                  384\n",
       "Pontevedra              330\n",
       "Zaragoza                204\n",
       "Castellón               197\n",
       "Toledo                  184\n",
       "Girona                  157\n",
       "Cádiz                   148\n",
       "Granada                 137\n",
       "La Coruña               135\n",
       "Valladolid              128\n",
       "Córdoba                 113\n",
       "Asturias                113\n",
       "Badajoz                 109\n",
       "Jaén                    108\n",
       "Guipúzcoa               104\n",
       "Cantabria                97\n",
       "Salamanca                96\n",
       "Tarragona                79\n",
       "Cáceres                  76\n",
       "Lugo                     69\n",
       "Burgos                   63\n",
       "Navarra                  62\n",
       "Almería                  59\n",
       "Guadalajara              55\n",
       "Ciudad Real              55\n",
       "Huelva                   52\n",
       "Huesca                   52\n",
       "Islas Baleares           45\n",
       "Las Palmas               38\n",
       "Albacete                 37\n",
       "Álava                    35\n",
       "Palencia                 34\n",
       "Cuenca                   33\n",
       "León                     31\n",
       "Zamora                   30\n",
       "Soria                    23\n",
       "Ávila                    22\n",
       "Ceuta                    19\n",
       "La Rioja                 17\n",
       "Lleida                   15\n",
       "Sta. C. de Tenerife      12\n",
       "Segovia                   9\n",
       "Teruel                    1\n",
       "Name: province, dtype: int64"
      ]
     },
     "metadata": {},
     "execution_count": 18
    }
   ],
   "metadata": {}
  },
  {
   "cell_type": "markdown",
   "source": [
    "### Separate brand and model"
   ],
   "metadata": {}
  },
  {
   "cell_type": "code",
   "execution_count": 19,
   "source": [
    "data['brand_and_model'][0][2:-2].split(sep=' ', maxsplit=1)"
   ],
   "outputs": [
    {
     "output_type": "execute_result",
     "data": {
      "text/plain": [
       "['AUDI', 'A5 Coupé 3.0TDI quattro S-Tronic']"
      ]
     },
     "metadata": {},
     "execution_count": 19
    }
   ],
   "metadata": {}
  },
  {
   "cell_type": "code",
   "execution_count": 20,
   "source": [
    "data['brand_and_model'] = [brand_and_model[2:-2] for brand_and_model in data['brand_and_model']]"
   ],
   "outputs": [],
   "metadata": {}
  },
  {
   "cell_type": "code",
   "execution_count": 21,
   "source": [
    "data[['brand','model']] = data['brand_and_model'].str.split(' ', n=1, expand=True)"
   ],
   "outputs": [],
   "metadata": {}
  },
  {
   "cell_type": "code",
   "execution_count": 22,
   "source": [
    "data = data.drop(['brand_and_model'], axis=1)\r\n",
    "data = data[['brand', 'model', 'price', 'province', 'matriculation', 'fuel', 'kilometres', 'gear']]"
   ],
   "outputs": [],
   "metadata": {}
  },
  {
   "cell_type": "markdown",
   "source": [
    "### Explore brand"
   ],
   "metadata": {}
  },
  {
   "cell_type": "code",
   "execution_count": 23,
   "source": [
    "data['brand'].value_counts()"
   ],
   "outputs": [
    {
     "output_type": "execute_result",
     "data": {
      "text/plain": [
       "BMW              937\n",
       "AUDI             848\n",
       "MERCEDES-BENZ    810\n",
       "VOLKSWAGEN       723\n",
       "PEUGEOT          640\n",
       "TOYOTA           595\n",
       "FORD             586\n",
       "OPEL             470\n",
       "CITROEN          468\n",
       "SEAT             467\n",
       "RENAULT          451\n",
       "KIA              280\n",
       "NISSAN           273\n",
       "HYUNDAI          253\n",
       "FIAT             245\n",
       "MINI             210\n",
       "VOLVO            194\n",
       "LAND-ROVER       193\n",
       "SKODA            144\n",
       "PORSCHE          144\n",
       "LEXUS            137\n",
       "MAZDA            118\n",
       "JAGUAR           110\n",
       "SMART             84\n",
       "JEEP              73\n",
       "HONDA             70\n",
       "DACIA             64\n",
       "ALFA              50\n",
       "DS                45\n",
       "MITSUBISHI        44\n",
       "SUZUKI            37\n",
       "SSANGYONG         33\n",
       "MASERATI          27\n",
       "ABARTH            20\n",
       "INFINITI          20\n",
       "CUPRA             18\n",
       "CHEVROLET         17\n",
       "FERRARI           14\n",
       "TESLA             13\n",
       "CHRYSLER           9\n",
       "BENTLEY            8\n",
       "DR                 6\n",
       "SAAB               5\n",
       "ASTON              5\n",
       "DODGE              4\n",
       "SUBARU             4\n",
       "LAMBORGHINI        3\n",
       "LANCIA             3\n",
       "DFSK               2\n",
       "McLaren            2\n",
       "HUMMER             1\n",
       "MAYBACH            1\n",
       "ROLLS-ROYCE        1\n",
       "DAEWOO             1\n",
       "Name: brand, dtype: int64"
      ]
     },
     "metadata": {},
     "execution_count": 23
    }
   ],
   "metadata": {}
  },
  {
   "cell_type": "markdown",
   "source": [
    "### Add environmental label"
   ],
   "metadata": {}
  },
  {
   "cell_type": "code",
   "execution_count": 30,
   "source": [
    "def determine_label(matriculation, fuel):\r\n",
    "    if fuel == 'Eléctrico' or fuel=='Híbrido enchufable':\r\n",
    "        return '0'\r\n",
    "    elif fuel == 'Gas' or fuel=='Híbrido':\r\n",
    "        return 'ECO'\r\n",
    "    elif (matriculation >= 2006 and fuel=='Gasolina') or (matriculation >= 2015 and fuel=='Diésel'):\r\n",
    "        return 'C'\r\n",
    "    elif (matriculation >= 2001 and fuel=='Gasolina') or (matriculation >= 2006 and fuel=='Diésel'):\r\n",
    "        return 'B'\r\n",
    "    else:\r\n",
    "        return 'A'   "
   ],
   "outputs": [],
   "metadata": {}
  },
  {
   "cell_type": "code",
   "execution_count": 53,
   "source": [
    "data['enviromental_label'] = [determine_label(data['matriculation'][i], data['fuel'][i]) for i in data.index]"
   ],
   "outputs": [],
   "metadata": {}
  },
  {
   "cell_type": "code",
   "execution_count": 54,
   "source": [
    "data['enviromental_label'].value_counts()"
   ],
   "outputs": [
    {
     "output_type": "execute_result",
     "data": {
      "text/plain": [
       "C      7764\n",
       "B       945\n",
       "ECO     748\n",
       "0       284\n",
       "A       239\n",
       "Name: enviromental_label, dtype: int64"
      ]
     },
     "metadata": {},
     "execution_count": 54
    }
   ],
   "metadata": {}
  },
  {
   "cell_type": "code",
   "execution_count": 51,
   "source": [
    "data.head()"
   ],
   "outputs": [
    {
     "output_type": "execute_result",
     "data": {
      "text/html": [
       "<div>\n",
       "<style scoped>\n",
       "    .dataframe tbody tr th:only-of-type {\n",
       "        vertical-align: middle;\n",
       "    }\n",
       "\n",
       "    .dataframe tbody tr th {\n",
       "        vertical-align: top;\n",
       "    }\n",
       "\n",
       "    .dataframe thead th {\n",
       "        text-align: right;\n",
       "    }\n",
       "</style>\n",
       "<table border=\"1\" class=\"dataframe\">\n",
       "  <thead>\n",
       "    <tr style=\"text-align: right;\">\n",
       "      <th></th>\n",
       "      <th>brand</th>\n",
       "      <th>model</th>\n",
       "      <th>price</th>\n",
       "      <th>province</th>\n",
       "      <th>matriculation</th>\n",
       "      <th>fuel</th>\n",
       "      <th>kilometres</th>\n",
       "      <th>gear</th>\n",
       "      <th>enviromental_label</th>\n",
       "    </tr>\n",
       "  </thead>\n",
       "  <tbody>\n",
       "    <tr>\n",
       "      <th>0</th>\n",
       "      <td>AUDI</td>\n",
       "      <td>A5 Coupé 3.0TDI quattro S-Tronic</td>\n",
       "      <td>15450</td>\n",
       "      <td>Granada</td>\n",
       "      <td>2010</td>\n",
       "      <td>Diésel</td>\n",
       "      <td>303000</td>\n",
       "      <td>Automático</td>\n",
       "      <td>B</td>\n",
       "    </tr>\n",
       "    <tr>\n",
       "      <th>1</th>\n",
       "      <td>BMW</td>\n",
       "      <td>X3 xDrive 20iA</td>\n",
       "      <td>57500</td>\n",
       "      <td>Almería</td>\n",
       "      <td>2021</td>\n",
       "      <td>Gasolina</td>\n",
       "      <td>10</td>\n",
       "      <td>Automático</td>\n",
       "      <td>C</td>\n",
       "    </tr>\n",
       "    <tr>\n",
       "      <th>2</th>\n",
       "      <td>OPEL</td>\n",
       "      <td>Mokka X 1.4T Innovation 4x2 Aut.</td>\n",
       "      <td>13499</td>\n",
       "      <td>Castellón</td>\n",
       "      <td>2019</td>\n",
       "      <td>Gasolina</td>\n",
       "      <td>98456</td>\n",
       "      <td>Automático</td>\n",
       "      <td>C</td>\n",
       "    </tr>\n",
       "    <tr>\n",
       "      <th>3</th>\n",
       "      <td>BMW</td>\n",
       "      <td>Serie 3 318dA Essential Edition</td>\n",
       "      <td>13990</td>\n",
       "      <td>Cantabria</td>\n",
       "      <td>2014</td>\n",
       "      <td>Diésel</td>\n",
       "      <td>192000</td>\n",
       "      <td>Automático</td>\n",
       "      <td>B</td>\n",
       "    </tr>\n",
       "    <tr>\n",
       "      <th>4</th>\n",
       "      <td>PEUGEOT</td>\n",
       "      <td>308 SW 1.6 BlueHDi MBC Active 120</td>\n",
       "      <td>10200</td>\n",
       "      <td>Cádiz</td>\n",
       "      <td>2016</td>\n",
       "      <td>Diésel</td>\n",
       "      <td>134000</td>\n",
       "      <td>Manual</td>\n",
       "      <td>C</td>\n",
       "    </tr>\n",
       "  </tbody>\n",
       "</table>\n",
       "</div>"
      ],
      "text/plain": [
       "     brand                              model  price   province  \\\n",
       "0     AUDI   A5 Coupé 3.0TDI quattro S-Tronic  15450    Granada   \n",
       "1      BMW                     X3 xDrive 20iA  57500    Almería   \n",
       "2     OPEL   Mokka X 1.4T Innovation 4x2 Aut.  13499  Castellón   \n",
       "3      BMW    Serie 3 318dA Essential Edition  13990  Cantabria   \n",
       "4  PEUGEOT  308 SW 1.6 BlueHDi MBC Active 120  10200      Cádiz   \n",
       "\n",
       "   matriculation      fuel  kilometres        gear enviromental_label  \n",
       "0           2010    Diésel      303000  Automático                  B  \n",
       "1           2021  Gasolina          10  Automático                  C  \n",
       "2           2019  Gasolina       98456  Automático                  C  \n",
       "3           2014    Diésel      192000  Automático                  B  \n",
       "4           2016    Diésel      134000      Manual                  C  "
      ]
     },
     "metadata": {},
     "execution_count": 51
    }
   ],
   "metadata": {}
  },
  {
   "cell_type": "code",
   "execution_count": 55,
   "source": [
    "data.to_csv('clean_cars_data.csv')"
   ],
   "outputs": [],
   "metadata": {}
  }
 ],
 "metadata": {
  "kernelspec": {
   "name": "python3",
   "display_name": "Python 3.8.8 64-bit ('base': conda)"
  },
  "language_info": {
   "codemirror_mode": {
    "name": "ipython",
    "version": 3
   },
   "file_extension": ".py",
   "mimetype": "text/x-python",
   "name": "python",
   "nbconvert_exporter": "python",
   "pygments_lexer": "ipython3",
   "version": "3.8.8"
  },
  "interpreter": {
   "hash": "97ae724bfa85b9b34df7982b8bb8c7216f435b92902d749e4263f71162bea840"
  }
 },
 "nbformat": 4,
 "nbformat_minor": 5
}