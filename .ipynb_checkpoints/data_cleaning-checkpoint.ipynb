{
 "cells": [
  {
   "cell_type": "markdown",
   "id": "9b61e9a5",
   "metadata": {},
   "source": [
    "# Data cleaning for scraped cars"
   ]
  },
  {
   "cell_type": "markdown",
   "id": "ea6d9f54",
   "metadata": {},
   "source": [
    "### Read dataset"
   ]
  },
  {
   "cell_type": "code",
   "execution_count": 198,
   "id": "7eba1094",
   "metadata": {},
   "outputs": [],
   "source": [
    "import pandas as pd"
   ]
  },
  {
   "cell_type": "code",
   "execution_count": 199,
   "id": "45e13e1c",
   "metadata": {},
   "outputs": [],
   "source": [
    "data = pd.read_json('./car_scraper/cars.json')"
   ]
  },
  {
   "cell_type": "code",
   "execution_count": 200,
   "id": "c4d2a740",
   "metadata": {},
   "outputs": [
    {
     "data": {
      "text/html": [
       "<div>\n",
       "<style scoped>\n",
       "    .dataframe tbody tr th:only-of-type {\n",
       "        vertical-align: middle;\n",
       "    }\n",
       "\n",
       "    .dataframe tbody tr th {\n",
       "        vertical-align: top;\n",
       "    }\n",
       "\n",
       "    .dataframe thead th {\n",
       "        text-align: right;\n",
       "    }\n",
       "</style>\n",
       "<table border=\"1\" class=\"dataframe\">\n",
       "  <thead>\n",
       "    <tr style=\"text-align: right;\">\n",
       "      <th></th>\n",
       "      <th>brand_and_model</th>\n",
       "      <th>price</th>\n",
       "      <th>province</th>\n",
       "      <th>matriculation</th>\n",
       "      <th>fuel</th>\n",
       "      <th>kilometres</th>\n",
       "      <th>gear</th>\n",
       "    </tr>\n",
       "  </thead>\n",
       "  <tbody>\n",
       "    <tr>\n",
       "      <th>0</th>\n",
       "      <td>AUDI A5 Coupé 3.0TDI quattro S-Tronic</td>\n",
       "      <td>15.450</td>\n",
       "      <td>Granada</td>\n",
       "      <td>2010</td>\n",
       "      <td>Diésel</td>\n",
       "      <td>303.000 km</td>\n",
       "      <td>Automático</td>\n",
       "    </tr>\n",
       "    <tr>\n",
       "      <th>1</th>\n",
       "      <td>BMW X3 xDrive 20iA</td>\n",
       "      <td>57.500</td>\n",
       "      <td>Almería</td>\n",
       "      <td>2021</td>\n",
       "      <td>Gasolina</td>\n",
       "      <td>10 km</td>\n",
       "      <td>Automático</td>\n",
       "    </tr>\n",
       "    <tr>\n",
       "      <th>2</th>\n",
       "      <td>OPEL Mokka X 1.4T Innovation 4x2 Aut.</td>\n",
       "      <td>13.499</td>\n",
       "      <td>Castellón</td>\n",
       "      <td>2019</td>\n",
       "      <td>Gasolina</td>\n",
       "      <td>98.456 km</td>\n",
       "      <td>Automático</td>\n",
       "    </tr>\n",
       "    <tr>\n",
       "      <th>3</th>\n",
       "      <td>BMW Serie 3 318dA Essential Edition</td>\n",
       "      <td>13.990</td>\n",
       "      <td>Cantabria</td>\n",
       "      <td>2014</td>\n",
       "      <td>Diésel</td>\n",
       "      <td>192.000 km</td>\n",
       "      <td>Automático</td>\n",
       "    </tr>\n",
       "    <tr>\n",
       "      <th>4</th>\n",
       "      <td>PEUGEOT 308 SW 1.6 BlueHDi MBC Active 120</td>\n",
       "      <td>10.200</td>\n",
       "      <td>Cádiz</td>\n",
       "      <td>2016</td>\n",
       "      <td>Diésel</td>\n",
       "      <td>134.000 km</td>\n",
       "      <td>Manual</td>\n",
       "    </tr>\n",
       "  </tbody>\n",
       "</table>\n",
       "</div>"
      ],
      "text/plain": [
       "                                 brand_and_model     price   province  \\\n",
       "0        AUDI A5 Coupé 3.0TDI quattro S-Tronic    15.450      Granada   \n",
       "1                           BMW X3 xDrive 20iA    57.500      Almería   \n",
       "2        OPEL Mokka X 1.4T Innovation 4x2 Aut.    13.499    Castellón   \n",
       "3          BMW Serie 3 318dA Essential Edition    13.990    Cantabria   \n",
       "4    PEUGEOT 308 SW 1.6 BlueHDi MBC Active 120    10.200        Cádiz   \n",
       "\n",
       "   matriculation       fuel  kilometres        gear  \n",
       "0           2010     Diésel  303.000 km  Automático  \n",
       "1           2021   Gasolina       10 km  Automático  \n",
       "2           2019   Gasolina   98.456 km  Automático  \n",
       "3           2014     Diésel  192.000 km  Automático  \n",
       "4           2016     Diésel  134.000 km      Manual  "
      ]
     },
     "execution_count": 200,
     "metadata": {},
     "output_type": "execute_result"
    }
   ],
   "source": [
    "data.head()"
   ]
  },
  {
   "cell_type": "code",
   "execution_count": 201,
   "id": "48417e77",
   "metadata": {},
   "outputs": [
    {
     "data": {
      "text/plain": [
       "(9984, 7)"
      ]
     },
     "execution_count": 201,
     "metadata": {},
     "output_type": "execute_result"
    }
   ],
   "source": [
    "data.shape"
   ]
  },
  {
   "cell_type": "code",
   "execution_count": 202,
   "id": "794335e3",
   "metadata": {},
   "outputs": [
    {
     "data": {
      "text/plain": [
       "brand_and_model    object\n",
       "price              object\n",
       "province           object\n",
       "matriculation       int64\n",
       "fuel               object\n",
       "kilometres         object\n",
       "gear               object\n",
       "dtype: object"
      ]
     },
     "execution_count": 202,
     "metadata": {},
     "output_type": "execute_result"
    }
   ],
   "source": [
    "data.dtypes"
   ]
  },
  {
   "cell_type": "markdown",
   "id": "6ee9be4c",
   "metadata": {},
   "source": [
    "### Clean price"
   ]
  },
  {
   "cell_type": "code",
   "execution_count": 203,
   "id": "be6bcb6b",
   "metadata": {},
   "outputs": [
    {
     "data": {
      "text/html": [
       "<div>\n",
       "<style scoped>\n",
       "    .dataframe tbody tr th:only-of-type {\n",
       "        vertical-align: middle;\n",
       "    }\n",
       "\n",
       "    .dataframe tbody tr th {\n",
       "        vertical-align: top;\n",
       "    }\n",
       "\n",
       "    .dataframe thead th {\n",
       "        text-align: right;\n",
       "    }\n",
       "</style>\n",
       "<table border=\"1\" class=\"dataframe\">\n",
       "  <thead>\n",
       "    <tr style=\"text-align: right;\">\n",
       "      <th></th>\n",
       "      <th>brand_and_model</th>\n",
       "      <th>price</th>\n",
       "      <th>province</th>\n",
       "      <th>matriculation</th>\n",
       "      <th>fuel</th>\n",
       "      <th>kilometres</th>\n",
       "      <th>gear</th>\n",
       "    </tr>\n",
       "  </thead>\n",
       "  <tbody>\n",
       "    <tr>\n",
       "      <th>7376</th>\n",
       "      <td>JAGUAR XJ XJ6 2.7D V6 Executive Aut.</td>\n",
       "      <td>Consultar</td>\n",
       "      <td>Vizcaya</td>\n",
       "      <td>2006</td>\n",
       "      <td>Diésel</td>\n",
       "      <td>198.000 km</td>\n",
       "      <td>Automático</td>\n",
       "    </tr>\n",
       "  </tbody>\n",
       "</table>\n",
       "</div>"
      ],
      "text/plain": [
       "                               brand_and_model       price province  \\\n",
       "7376    JAGUAR XJ XJ6 2.7D V6 Executive Aut.    Consultar   Vizcaya   \n",
       "\n",
       "      matriculation     fuel  kilometres        gear  \n",
       "7376           2006   Diésel  198.000 km  Automático  "
      ]
     },
     "execution_count": 203,
     "metadata": {},
     "output_type": "execute_result"
    }
   ],
   "source": [
    "data[data['price']=='Consultar ']"
   ]
  },
  {
   "cell_type": "code",
   "execution_count": 204,
   "id": "97edeea9",
   "metadata": {},
   "outputs": [],
   "source": [
    "data = data[data['price']!='Consultar ']"
   ]
  },
  {
   "cell_type": "code",
   "execution_count": 205,
   "id": "cbc465d9",
   "metadata": {},
   "outputs": [],
   "source": [
    "data['price'] = [int(price[:-2].replace('.','')) for price in data['price']]"
   ]
  },
  {
   "cell_type": "markdown",
   "id": "4cbe8431",
   "metadata": {},
   "source": [
    "### Clean kilometres"
   ]
  },
  {
   "cell_type": "code",
   "execution_count": 206,
   "id": "8cead984",
   "metadata": {},
   "outputs": [
    {
     "data": {
      "text/html": [
       "<div>\n",
       "<style scoped>\n",
       "    .dataframe tbody tr th:only-of-type {\n",
       "        vertical-align: middle;\n",
       "    }\n",
       "\n",
       "    .dataframe tbody tr th {\n",
       "        vertical-align: top;\n",
       "    }\n",
       "\n",
       "    .dataframe thead th {\n",
       "        text-align: right;\n",
       "    }\n",
       "</style>\n",
       "<table border=\"1\" class=\"dataframe\">\n",
       "  <thead>\n",
       "    <tr style=\"text-align: right;\">\n",
       "      <th></th>\n",
       "      <th>brand_and_model</th>\n",
       "      <th>price</th>\n",
       "      <th>province</th>\n",
       "      <th>matriculation</th>\n",
       "      <th>fuel</th>\n",
       "      <th>kilometres</th>\n",
       "      <th>gear</th>\n",
       "    </tr>\n",
       "  </thead>\n",
       "  <tbody>\n",
       "    <tr>\n",
       "      <th>1679</th>\n",
       "      <td>JAGUAR XE 2.0 Diesel Mid 180cv Auto.Prestige</td>\n",
       "      <td>24000</td>\n",
       "      <td>Vizcaya</td>\n",
       "      <td>2016</td>\n",
       "      <td>Diésel</td>\n",
       "      <td>&lt;li&gt;Cambio: &lt;span&gt;Automático</td>\n",
       "      <td>&lt;li&gt;Potencia: &lt;span&gt;180 cv</td>\n",
       "    </tr>\n",
       "    <tr>\n",
       "      <th>9429</th>\n",
       "      <td>LEXUS UX 250h Executive Navigation 2WD</td>\n",
       "      <td>30900</td>\n",
       "      <td>Asturias</td>\n",
       "      <td>2019</td>\n",
       "      <td>&lt;li&gt;Kilómetros: &lt;span&gt;17.000 km</td>\n",
       "      <td>&lt;li&gt;Cambio: &lt;span&gt;Automático</td>\n",
       "      <td>&lt;li&gt;Potencia: &lt;span&gt;184 cv</td>\n",
       "    </tr>\n",
       "  </tbody>\n",
       "</table>\n",
       "</div>"
      ],
      "text/plain": [
       "                                       brand_and_model  price  province  \\\n",
       "1679    JAGUAR XE 2.0 Diesel Mid 180cv Auto.Prestige    24000   Vizcaya   \n",
       "9429          LEXUS UX 250h Executive Navigation 2WD    30900  Asturias   \n",
       "\n",
       "      matriculation                             fuel  \\\n",
       "1679           2016                           Diésel   \n",
       "9429           2019  <li>Kilómetros: <span>17.000 km   \n",
       "\n",
       "                        kilometres                        gear  \n",
       "1679  <li>Cambio: <span>Automático  <li>Potencia: <span>180 cv  \n",
       "9429  <li>Cambio: <span>Automático  <li>Potencia: <span>184 cv  "
      ]
     },
     "execution_count": 206,
     "metadata": {},
     "output_type": "execute_result"
    }
   ],
   "source": [
    "data[data['kilometres']=='<li>Cambio: <span>Automático']"
   ]
  },
  {
   "cell_type": "code",
   "execution_count": 207,
   "id": "7f3cc3be",
   "metadata": {},
   "outputs": [],
   "source": [
    "data = data[data['kilometres']!='<li>Cambio: <span>Automático']"
   ]
  },
  {
   "cell_type": "code",
   "execution_count": 208,
   "id": "2490b575",
   "metadata": {},
   "outputs": [],
   "source": [
    "data['kilometres'] = [int(kms[:-3].replace('.','')) for kms in data['kilometres']]"
   ]
  },
  {
   "cell_type": "markdown",
   "id": "e696c99a",
   "metadata": {},
   "source": [
    "###  Explore fuel and gear"
   ]
  },
  {
   "cell_type": "code",
   "execution_count": 209,
   "id": "fab5872f",
   "metadata": {},
   "outputs": [
    {
     "data": {
      "text/plain": [
       " Diésel                4742\n",
       " Gasolina              4106\n",
       " Híbrido                709\n",
       " Eléctrico              284\n",
       " Híbrido Enchufable     101\n",
       " Gas                     39\n",
       "Name: fuel, dtype: int64"
      ]
     },
     "execution_count": 209,
     "metadata": {},
     "output_type": "execute_result"
    }
   ],
   "source": [
    "data['fuel'].value_counts()"
   ]
  },
  {
   "cell_type": "code",
   "execution_count": 210,
   "id": "501e738e",
   "metadata": {},
   "outputs": [
    {
     "data": {
      "text/plain": [
       "Manual                        5489\n",
       "Automático                    4491\n",
       "<li>Potencia: <span>190 cv       1\n",
       "Name: gear, dtype: int64"
      ]
     },
     "execution_count": 210,
     "metadata": {},
     "output_type": "execute_result"
    }
   ],
   "source": [
    "data['gear'].value_counts()"
   ]
  },
  {
   "cell_type": "code",
   "execution_count": 211,
   "id": "b391f6d5",
   "metadata": {},
   "outputs": [],
   "source": [
    "data = data[data['gear']!='<li>Potencia: <span>190 cv']"
   ]
  },
  {
   "cell_type": "markdown",
   "id": "4ada9153",
   "metadata": {},
   "source": [
    "### Explore matriculation and province"
   ]
  },
  {
   "cell_type": "code",
   "execution_count": 212,
   "id": "fbacdb8a",
   "metadata": {},
   "outputs": [
    {
     "data": {
      "text/plain": [
       "2021    1717\n",
       "2017    1526\n",
       "2018    1451\n",
       "2019    1292\n",
       "2020    1163\n",
       "2016     845\n",
       "2015     430\n",
       "2014     264\n",
       "2013     212\n",
       "2012     164\n",
       "2011     139\n",
       "2010     126\n",
       "2007      99\n",
       "2009      94\n",
       "2008      92\n",
       "2005      73\n",
       "2006      69\n",
       "2022      48\n",
       "2003      42\n",
       "2004      39\n",
       "2002      23\n",
       "2000      20\n",
       "2001      16\n",
       "1999      10\n",
       "1997       6\n",
       "1994       5\n",
       "1995       4\n",
       "1998       4\n",
       "1992       3\n",
       "1996       2\n",
       "1993       2\n",
       "Name: matriculation, dtype: int64"
      ]
     },
     "execution_count": 212,
     "metadata": {},
     "output_type": "execute_result"
    }
   ],
   "source": [
    "data['matriculation'].value_counts()"
   ]
  },
  {
   "cell_type": "code",
   "execution_count": 213,
   "id": "e86e244f",
   "metadata": {},
   "outputs": [
    {
     "data": {
      "text/plain": [
       "Madrid                 1819\n",
       "Barcelona              1440\n",
       "Vizcaya                 835\n",
       "Valencia                816\n",
       "Sevilla                 475\n",
       "Alicante                432\n",
       "Murcia                  396\n",
       "Málaga                  384\n",
       "Pontevedra              330\n",
       "Zaragoza                204\n",
       "Castellón               197\n",
       "Toledo                  184\n",
       "Girona                  157\n",
       "Cádiz                   148\n",
       "Granada                 137\n",
       "La Coruña               135\n",
       "Valladolid              128\n",
       "Córdoba                 113\n",
       "Asturias                113\n",
       "Badajoz                 109\n",
       "Jaén                    108\n",
       "Guipúzcoa               104\n",
       "Cantabria                97\n",
       "Salamanca                96\n",
       "Tarragona                79\n",
       "Cáceres                  76\n",
       "Lugo                     69\n",
       "Burgos                   63\n",
       "Navarra                  62\n",
       "Almería                  59\n",
       "Ciudad Real              55\n",
       "Guadalajara              55\n",
       "Huelva                   52\n",
       "Huesca                   52\n",
       "Islas Baleares           45\n",
       "Las Palmas               38\n",
       "Albacete                 37\n",
       "Álava                    35\n",
       "Palencia                 34\n",
       "Cuenca                   33\n",
       "León                     31\n",
       "Zamora                   30\n",
       "Soria                    23\n",
       "Ávila                    22\n",
       "Ceuta                    19\n",
       "La Rioja                 17\n",
       "Lleida                   15\n",
       "Sta. C. de Tenerife      12\n",
       "Segovia                   9\n",
       "Teruel                    1\n",
       "Name: province, dtype: int64"
      ]
     },
     "execution_count": 213,
     "metadata": {},
     "output_type": "execute_result"
    }
   ],
   "source": [
    "data['province'].value_counts()"
   ]
  },
  {
   "cell_type": "markdown",
   "id": "9ae26718",
   "metadata": {},
   "source": [
    "### Separate brand and model"
   ]
  },
  {
   "cell_type": "code",
   "execution_count": 214,
   "id": "446ba41b",
   "metadata": {},
   "outputs": [
    {
     "data": {
      "text/plain": [
       "['AUDI', 'A5 Coupé 3.0TDI quattro S-Tronic']"
      ]
     },
     "execution_count": 214,
     "metadata": {},
     "output_type": "execute_result"
    }
   ],
   "source": [
    "data['brand_and_model'][0][2:-2].split(sep=' ', maxsplit=1)"
   ]
  },
  {
   "cell_type": "code",
   "execution_count": 215,
   "id": "0fcccb9f",
   "metadata": {},
   "outputs": [],
   "source": [
    "data['brand_and_model'] = [brand_and_model[2:-2] for brand_and_model in data['brand_and_model']]"
   ]
  },
  {
   "cell_type": "code",
   "execution_count": 216,
   "id": "0e37f5c0",
   "metadata": {},
   "outputs": [],
   "source": [
    "data[['brand','model']] = data['brand_and_model'].str.split(' ', n=1, expand=True)"
   ]
  },
  {
   "cell_type": "code",
   "execution_count": 217,
   "id": "259d3448",
   "metadata": {},
   "outputs": [
    {
     "data": {
      "text/html": [
       "<div>\n",
       "<style scoped>\n",
       "    .dataframe tbody tr th:only-of-type {\n",
       "        vertical-align: middle;\n",
       "    }\n",
       "\n",
       "    .dataframe tbody tr th {\n",
       "        vertical-align: top;\n",
       "    }\n",
       "\n",
       "    .dataframe thead th {\n",
       "        text-align: right;\n",
       "    }\n",
       "</style>\n",
       "<table border=\"1\" class=\"dataframe\">\n",
       "  <thead>\n",
       "    <tr style=\"text-align: right;\">\n",
       "      <th></th>\n",
       "      <th>brand</th>\n",
       "      <th>model</th>\n",
       "      <th>price</th>\n",
       "      <th>province</th>\n",
       "      <th>matriculation</th>\n",
       "      <th>fuel</th>\n",
       "      <th>kilometres</th>\n",
       "      <th>gear</th>\n",
       "    </tr>\n",
       "  </thead>\n",
       "  <tbody>\n",
       "    <tr>\n",
       "      <th>0</th>\n",
       "      <td>AUDI</td>\n",
       "      <td>A5 Coupé 3.0TDI quattro S-Tronic</td>\n",
       "      <td>15450</td>\n",
       "      <td>Granada</td>\n",
       "      <td>2010</td>\n",
       "      <td>Diésel</td>\n",
       "      <td>303000</td>\n",
       "      <td>Automático</td>\n",
       "    </tr>\n",
       "    <tr>\n",
       "      <th>1</th>\n",
       "      <td>BMW</td>\n",
       "      <td>X3 xDrive 20iA</td>\n",
       "      <td>57500</td>\n",
       "      <td>Almería</td>\n",
       "      <td>2021</td>\n",
       "      <td>Gasolina</td>\n",
       "      <td>10</td>\n",
       "      <td>Automático</td>\n",
       "    </tr>\n",
       "    <tr>\n",
       "      <th>2</th>\n",
       "      <td>OPEL</td>\n",
       "      <td>Mokka X 1.4T Innovation 4x2 Aut.</td>\n",
       "      <td>13499</td>\n",
       "      <td>Castellón</td>\n",
       "      <td>2019</td>\n",
       "      <td>Gasolina</td>\n",
       "      <td>98456</td>\n",
       "      <td>Automático</td>\n",
       "    </tr>\n",
       "    <tr>\n",
       "      <th>3</th>\n",
       "      <td>BMW</td>\n",
       "      <td>Serie 3 318dA Essential Edition</td>\n",
       "      <td>13990</td>\n",
       "      <td>Cantabria</td>\n",
       "      <td>2014</td>\n",
       "      <td>Diésel</td>\n",
       "      <td>192000</td>\n",
       "      <td>Automático</td>\n",
       "    </tr>\n",
       "    <tr>\n",
       "      <th>4</th>\n",
       "      <td>PEUGEOT</td>\n",
       "      <td>308 SW 1.6 BlueHDi MBC Active 120</td>\n",
       "      <td>10200</td>\n",
       "      <td>Cádiz</td>\n",
       "      <td>2016</td>\n",
       "      <td>Diésel</td>\n",
       "      <td>134000</td>\n",
       "      <td>Manual</td>\n",
       "    </tr>\n",
       "  </tbody>\n",
       "</table>\n",
       "</div>"
      ],
      "text/plain": [
       "     brand                              model  price   province  \\\n",
       "0     AUDI   A5 Coupé 3.0TDI quattro S-Tronic  15450    Granada   \n",
       "1      BMW                     X3 xDrive 20iA  57500    Almería   \n",
       "2     OPEL   Mokka X 1.4T Innovation 4x2 Aut.  13499  Castellón   \n",
       "3      BMW    Serie 3 318dA Essential Edition  13990  Cantabria   \n",
       "4  PEUGEOT  308 SW 1.6 BlueHDi MBC Active 120  10200      Cádiz   \n",
       "\n",
       "   matriculation       fuel  kilometres        gear  \n",
       "0           2010     Diésel      303000  Automático  \n",
       "1           2021   Gasolina          10  Automático  \n",
       "2           2019   Gasolina       98456  Automático  \n",
       "3           2014     Diésel      192000  Automático  \n",
       "4           2016     Diésel      134000      Manual  "
      ]
     },
     "execution_count": 217,
     "metadata": {},
     "output_type": "execute_result"
    }
   ],
   "source": [
    "data = data.drop(['brand_and_model'], axis=1)\n",
    "data = data[['brand', 'model', 'price', 'province', 'matriculation', 'fuel', 'kilometres', 'gear']]"
   ]
  },
  {
   "cell_type": "markdown",
   "id": "bd76e5ea",
   "metadata": {},
   "source": [
    "### Explore brand"
   ]
  },
  {
   "cell_type": "code",
   "execution_count": 218,
   "id": "7c207708",
   "metadata": {},
   "outputs": [
    {
     "data": {
      "text/plain": [
       "BMW              937\n",
       "AUDI             848\n",
       "MERCEDES-BENZ    810\n",
       "VOLKSWAGEN       723\n",
       "PEUGEOT          640\n",
       "TOYOTA           595\n",
       "FORD             586\n",
       "OPEL             470\n",
       "CITROEN          468\n",
       "SEAT             467\n",
       "RENAULT          451\n",
       "KIA              280\n",
       "NISSAN           273\n",
       "HYUNDAI          253\n",
       "FIAT             245\n",
       "MINI             210\n",
       "VOLVO            194\n",
       "LAND-ROVER       193\n",
       "SKODA            144\n",
       "PORSCHE          144\n",
       "LEXUS            137\n",
       "MAZDA            118\n",
       "JAGUAR           110\n",
       "SMART             84\n",
       "JEEP              73\n",
       "HONDA             70\n",
       "DACIA             64\n",
       "ALFA              50\n",
       "DS                45\n",
       "MITSUBISHI        44\n",
       "SUZUKI            37\n",
       "SSANGYONG         33\n",
       "MASERATI          27\n",
       "ABARTH            20\n",
       "INFINITI          20\n",
       "CUPRA             18\n",
       "CHEVROLET         17\n",
       "FERRARI           14\n",
       "TESLA             13\n",
       "CHRYSLER           9\n",
       "BENTLEY            8\n",
       "DR                 6\n",
       "SAAB               5\n",
       "ASTON              5\n",
       "SUBARU             4\n",
       "DODGE              4\n",
       "LANCIA             3\n",
       "LAMBORGHINI        3\n",
       "DFSK               2\n",
       "McLaren            2\n",
       "DAEWOO             1\n",
       "ROLLS-ROYCE        1\n",
       "MAYBACH            1\n",
       "HUMMER             1\n",
       "Name: brand, dtype: int64"
      ]
     },
     "execution_count": 218,
     "metadata": {},
     "output_type": "execute_result"
    }
   ],
   "source": [
    "data['brand'].value_counts()"
   ]
  },
  {
   "cell_type": "code",
   "execution_count": 219,
   "id": "9492c323",
   "metadata": {},
   "outputs": [
    {
     "data": {
      "text/html": [
       "<div>\n",
       "<style scoped>\n",
       "    .dataframe tbody tr th:only-of-type {\n",
       "        vertical-align: middle;\n",
       "    }\n",
       "\n",
       "    .dataframe tbody tr th {\n",
       "        vertical-align: top;\n",
       "    }\n",
       "\n",
       "    .dataframe thead th {\n",
       "        text-align: right;\n",
       "    }\n",
       "</style>\n",
       "<table border=\"1\" class=\"dataframe\">\n",
       "  <thead>\n",
       "    <tr style=\"text-align: right;\">\n",
       "      <th></th>\n",
       "      <th>brand</th>\n",
       "      <th>model</th>\n",
       "      <th>price</th>\n",
       "      <th>province</th>\n",
       "      <th>matriculation</th>\n",
       "      <th>fuel</th>\n",
       "      <th>kilometres</th>\n",
       "      <th>gear</th>\n",
       "    </tr>\n",
       "  </thead>\n",
       "  <tbody>\n",
       "    <tr>\n",
       "      <th>0</th>\n",
       "      <td>AUDI</td>\n",
       "      <td>A5 Coupé 3.0TDI quattro S-Tronic</td>\n",
       "      <td>15450</td>\n",
       "      <td>Granada</td>\n",
       "      <td>2010</td>\n",
       "      <td>Diésel</td>\n",
       "      <td>303000</td>\n",
       "      <td>Automático</td>\n",
       "    </tr>\n",
       "    <tr>\n",
       "      <th>1</th>\n",
       "      <td>BMW</td>\n",
       "      <td>X3 xDrive 20iA</td>\n",
       "      <td>57500</td>\n",
       "      <td>Almería</td>\n",
       "      <td>2021</td>\n",
       "      <td>Gasolina</td>\n",
       "      <td>10</td>\n",
       "      <td>Automático</td>\n",
       "    </tr>\n",
       "    <tr>\n",
       "      <th>2</th>\n",
       "      <td>OPEL</td>\n",
       "      <td>Mokka X 1.4T Innovation 4x2 Aut.</td>\n",
       "      <td>13499</td>\n",
       "      <td>Castellón</td>\n",
       "      <td>2019</td>\n",
       "      <td>Gasolina</td>\n",
       "      <td>98456</td>\n",
       "      <td>Automático</td>\n",
       "    </tr>\n",
       "    <tr>\n",
       "      <th>3</th>\n",
       "      <td>BMW</td>\n",
       "      <td>Serie 3 318dA Essential Edition</td>\n",
       "      <td>13990</td>\n",
       "      <td>Cantabria</td>\n",
       "      <td>2014</td>\n",
       "      <td>Diésel</td>\n",
       "      <td>192000</td>\n",
       "      <td>Automático</td>\n",
       "    </tr>\n",
       "    <tr>\n",
       "      <th>4</th>\n",
       "      <td>PEUGEOT</td>\n",
       "      <td>308 SW 1.6 BlueHDi MBC Active 120</td>\n",
       "      <td>10200</td>\n",
       "      <td>Cádiz</td>\n",
       "      <td>2016</td>\n",
       "      <td>Diésel</td>\n",
       "      <td>134000</td>\n",
       "      <td>Manual</td>\n",
       "    </tr>\n",
       "  </tbody>\n",
       "</table>\n",
       "</div>"
      ],
      "text/plain": [
       "     brand                              model  price   province  \\\n",
       "0     AUDI   A5 Coupé 3.0TDI quattro S-Tronic  15450    Granada   \n",
       "1      BMW                     X3 xDrive 20iA  57500    Almería   \n",
       "2     OPEL   Mokka X 1.4T Innovation 4x2 Aut.  13499  Castellón   \n",
       "3      BMW    Serie 3 318dA Essential Edition  13990  Cantabria   \n",
       "4  PEUGEOT  308 SW 1.6 BlueHDi MBC Active 120  10200      Cádiz   \n",
       "\n",
       "   matriculation       fuel  kilometres        gear  \n",
       "0           2010     Diésel      303000  Automático  \n",
       "1           2021   Gasolina          10  Automático  \n",
       "2           2019   Gasolina       98456  Automático  \n",
       "3           2014     Diésel      192000  Automático  \n",
       "4           2016     Diésel      134000      Manual  "
      ]
     },
     "execution_count": 219,
     "metadata": {},
     "output_type": "execute_result"
    }
   ],
   "source": [
    "data.head()"
   ]
  },
  {
   "cell_type": "code",
   "execution_count": 220,
   "id": "b699fe24",
   "metadata": {},
   "outputs": [],
   "source": [
    "data.to_csv('clean_cars_data.csv')"
   ]
  },
  {
   "cell_type": "code",
   "execution_count": null,
   "id": "a638aa30",
   "metadata": {},
   "outputs": [],
   "source": []
  }
 ],
 "metadata": {
  "kernelspec": {
   "display_name": "Python 3",
   "language": "python",
   "name": "python3"
  },
  "language_info": {
   "codemirror_mode": {
    "name": "ipython",
    "version": 3
   },
   "file_extension": ".py",
   "mimetype": "text/x-python",
   "name": "python",
   "nbconvert_exporter": "python",
   "pygments_lexer": "ipython3",
   "version": "3.8.8"
  }
 },
 "nbformat": 4,
 "nbformat_minor": 5
}
